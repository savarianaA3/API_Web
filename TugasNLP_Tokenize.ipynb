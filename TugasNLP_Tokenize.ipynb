{
  "nbformat": 4,
  "nbformat_minor": 0,
  "metadata": {
    "colab": {
      "provenance": [],
      "authorship_tag": "ABX9TyO7cMHQTsLOO6lsoTSCXqL+",
      "include_colab_link": true
    },
    "kernelspec": {
      "name": "python3",
      "display_name": "Python 3"
    },
    "language_info": {
      "name": "python"
    }
  },
  "cells": [
    {
      "cell_type": "markdown",
      "metadata": {
        "id": "view-in-github",
        "colab_type": "text"
      },
      "source": [
        "<a href=\"https://colab.research.google.com/github/savarianaA3/API_Web/blob/master/TugasNLP_Tokenize.ipynb\" target=\"_parent\"><img src=\"https://colab.research.google.com/assets/colab-badge.svg\" alt=\"Open In Colab\"/></a>"
      ]
    },
    {
      "cell_type": "code",
      "execution_count": 1,
      "metadata": {
        "colab": {
          "base_uri": "https://localhost:8080/"
        },
        "id": "zUMVFwYoxu0q",
        "outputId": "58f9ecc3-f14a-4af3-fbe5-6a383859cc85"
      },
      "outputs": [
        {
          "output_type": "stream",
          "name": "stdout",
          "text": [
            "Requirement already satisfied: nltk in /usr/local/lib/python3.10/dist-packages (3.8.1)\n",
            "Requirement already satisfied: click in /usr/local/lib/python3.10/dist-packages (from nltk) (8.1.7)\n",
            "Requirement already satisfied: joblib in /usr/local/lib/python3.10/dist-packages (from nltk) (1.4.2)\n",
            "Requirement already satisfied: regex>=2021.8.3 in /usr/local/lib/python3.10/dist-packages (from nltk) (2024.9.11)\n",
            "Requirement already satisfied: tqdm in /usr/local/lib/python3.10/dist-packages (from nltk) (4.66.5)\n"
          ]
        }
      ],
      "source": [
        "pip install nltk"
      ]
    },
    {
      "cell_type": "code",
      "source": [
        "!pip install nltk"
      ],
      "metadata": {
        "colab": {
          "base_uri": "https://localhost:8080/"
        },
        "id": "Z-hSxSOlx_4h",
        "outputId": "28a0e669-2881-4bb4-8eb3-200041a51c27"
      },
      "execution_count": 2,
      "outputs": [
        {
          "output_type": "stream",
          "name": "stdout",
          "text": [
            "Requirement already satisfied: nltk in /usr/local/lib/python3.10/dist-packages (3.8.1)\n",
            "Requirement already satisfied: click in /usr/local/lib/python3.10/dist-packages (from nltk) (8.1.7)\n",
            "Requirement already satisfied: joblib in /usr/local/lib/python3.10/dist-packages (from nltk) (1.4.2)\n",
            "Requirement already satisfied: regex>=2021.8.3 in /usr/local/lib/python3.10/dist-packages (from nltk) (2024.9.11)\n",
            "Requirement already satisfied: tqdm in /usr/local/lib/python3.10/dist-packages (from nltk) (4.66.5)\n"
          ]
        }
      ]
    },
    {
      "cell_type": "code",
      "source": [
        "import nltk\n",
        "nltk.download('punkt')  # Download tokenizer resources\n",
        "\n",
        "text = \"\"\"Universitas Pelita Bangsa, yang terletak di Cikarang, Bekasi, adalah salah satu universitas swasta yang terus berkembang pesat di Indonesia! Kampus ini menawarkan berbagai program studi, mulai dari Teknik Informatika, Manajemen, hingga Ilmu Hukum, yang semuanya dirancang untuk membekali mahasiswa dengan keterampilan yang relevan di dunia kerja. Dengan lokasi strategis di kawasan industri (apakah ini bukan keuntungan besar?), Universitas Pelita Bangsa memiliki banyak keunggulan, termasuk akses mudah ke berbagai perusahaan besar untuk keperluan magang dan kerja sama industri! Visi kampus ini adalah mencetak lulusan yang berdaya saing tinggi melalui pengajaran yang berkualitas dan fasilitas modern (wow!), yang didukung oleh dosen-dosen berpengalaman.\"\"\"\n",
        "\n",
        "# Tokenisasi berdasarkan kata\n",
        "word_tokens = nltk.word_tokenize(text)\n",
        "\n",
        "# Tokenisasi berdasarkan kalimat\n",
        "sentence_tokens = nltk.sent_tokenize(text)\n",
        "\n",
        "print(\"Word Tokens:\", word_tokens)\n",
        "print(\"Sentence Tokens:\", sentence_tokens)\n",
        "print(\"Jumlah kata:\", len(word_tokens))"
      ],
      "metadata": {
        "colab": {
          "base_uri": "https://localhost:8080/"
        },
        "id": "SAL6oikwyHNa",
        "outputId": "6dc83e36-6365-4589-8718-35dadd4c357b"
      },
      "execution_count": 6,
      "outputs": [
        {
          "output_type": "stream",
          "name": "stdout",
          "text": [
            "Word Tokens: ['Universitas', 'Pelita', 'Bangsa', ',', 'yang', 'terletak', 'di', 'Cikarang', ',', 'Bekasi', ',', 'adalah', 'salah', 'satu', 'universitas', 'swasta', 'yang', 'terus', 'berkembang', 'pesat', 'di', 'Indonesia', '!', 'Kampus', 'ini', 'menawarkan', 'berbagai', 'program', 'studi', ',', 'mulai', 'dari', 'Teknik', 'Informatika', ',', 'Manajemen', ',', 'hingga', 'Ilmu', 'Hukum', ',', 'yang', 'semuanya', 'dirancang', 'untuk', 'membekali', 'mahasiswa', 'dengan', 'keterampilan', 'yang', 'relevan', 'di', 'dunia', 'kerja', '.', 'Dengan', 'lokasi', 'strategis', 'di', 'kawasan', 'industri', '(', 'apakah', 'ini', 'bukan', 'keuntungan', 'besar', '?', ')', ',', 'Universitas', 'Pelita', 'Bangsa', 'memiliki', 'banyak', 'keunggulan', ',', 'termasuk', 'akses', 'mudah', 'ke', 'berbagai', 'perusahaan', 'besar', 'untuk', 'keperluan', 'magang', 'dan', 'kerja', 'sama', 'industri', '!', 'Visi', 'kampus', 'ini', 'adalah', 'mencetak', 'lulusan', 'yang', 'berdaya', 'saing', 'tinggi', 'melalui', 'pengajaran', 'yang', 'berkualitas', 'dan', 'fasilitas', 'modern', '(', 'wow', '!', ')', ',', 'yang', 'didukung', 'oleh', 'dosen-dosen', 'berpengalaman', '.']\n",
            "Sentence Tokens: ['Universitas Pelita Bangsa, yang terletak di Cikarang, Bekasi, adalah salah satu universitas swasta yang terus berkembang pesat di Indonesia!', 'Kampus ini menawarkan berbagai program studi, mulai dari Teknik Informatika, Manajemen, hingga Ilmu Hukum, yang semuanya dirancang untuk membekali mahasiswa dengan keterampilan yang relevan di dunia kerja.', 'Dengan lokasi strategis di kawasan industri (apakah ini bukan keuntungan besar?', '), Universitas Pelita Bangsa memiliki banyak keunggulan, termasuk akses mudah ke berbagai perusahaan besar untuk keperluan magang dan kerja sama industri!', 'Visi kampus ini adalah mencetak lulusan yang berdaya saing tinggi melalui pengajaran yang berkualitas dan fasilitas modern (wow!', '), yang didukung oleh dosen-dosen berpengalaman.']\n",
            "Jumlah kata: 120\n"
          ]
        },
        {
          "output_type": "stream",
          "name": "stderr",
          "text": [
            "[nltk_data] Downloading package punkt to /root/nltk_data...\n",
            "[nltk_data]   Package punkt is already up-to-date!\n"
          ]
        }
      ]
    }
  ]
}